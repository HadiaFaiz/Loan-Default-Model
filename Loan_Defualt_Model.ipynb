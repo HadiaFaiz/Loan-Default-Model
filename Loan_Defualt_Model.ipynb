{
 "cells": [
  {
   "cell_type": "code",
   "execution_count": 1,
   "id": "eb69c082-e662-4619-8daa-1da207a16dd8",
   "metadata": {},
   "outputs": [],
   "source": [
    "import pandas as pd\n",
    "import numpy as np\n",
    "import seaborn as sns\n",
    "import matplotlib.pyplot as plt\n",
    "from sklearn.naive_bayes import GaussianNB\n",
    "from sklearn.model_selection import cross_val_score\n",
    "from sklearn.preprocessing import LabelEncoder\n",
    "from sklearn.preprocessing import StandardScaler\n",
    "from sklearn.model_selection import train_test_split\n",
    "from sklearn.metrics import accuracy_score, classification_report"
   ]
  },
  {
   "cell_type": "code",
   "execution_count": 2,
   "id": "65371868-8548-451a-b4f4-7d223a21df1f",
   "metadata": {},
   "outputs": [],
   "source": [
    "df = pd.read_csv('Loan_default.csv')\n",
    "df_encoded = df.copy()\n",
    "label_encoder = LabelEncoder()\n",
    "\n",
    "\n",
    "boolean_columns = ['HasMortgage', 'HasDependents', 'HasCoSigner']\n",
    "for column in boolean_columns:\n",
    "    df_encoded[column] = label_encoder.fit_transform(df_encoded[column])\n",
    "\n",
    "\n",
    "categorical_columns = ['Education', 'EmploymentType', 'LoanPurpose', 'MaritalStatus']\n",
    "df_encoded = pd.get_dummies(df_encoded, columns=categorical_columns)\n",
    "\n",
    "corr_matrix = df_encoded.corr(numeric_only=True)"
   ]
  },
  {
   "cell_type": "code",
   "execution_count": 3,
   "id": "c0c3b4f0-2873-4063-865b-e72ff9196138",
   "metadata": {},
   "outputs": [
    {
     "data": {
      "text/plain": [
       "InterestRate                    0.131273\n",
       "LoanAmount                      0.086659\n",
       "EmploymentType_Unemployed       0.034957\n",
       "NumCreditLines                  0.028330\n",
       "Education_High School           0.022831\n",
       "MaritalStatus_Divorced          0.020290\n",
       "DTIRatio                        0.019236\n",
       "LoanPurpose_Business            0.011162\n",
       "Education_Bachelor's            0.008848\n",
       "MaritalStatus_Single            0.006607\n",
       "EmploymentType_Part-time        0.006372\n",
       "LoanPurpose_Auto                0.004181\n",
       "LoanPurpose_Education           0.003512\n",
       "LoanPurpose_Other               0.002737\n",
       "LoanTerm                        0.000545\n",
       "EmploymentType_Self-employed   -0.002714\n",
       "Education_Master's             -0.013314\n",
       "Education_PhD                  -0.018447\n",
       "LoanPurpose_Home               -0.021564\n",
       "HasMortgage                    -0.022856\n",
       "MaritalStatus_Married          -0.026875\n",
       "CreditScore                    -0.034166\n",
       "HasDependents                  -0.034678\n",
       "EmploymentType_Full-time       -0.038662\n",
       "HasCoSigner                    -0.039109\n",
       "MonthsEmployed                 -0.097374\n",
       "Income                         -0.099119\n",
       "Age                            -0.167783\n",
       "Name: Default, dtype: float64"
      ]
     },
     "execution_count": 3,
     "metadata": {},
     "output_type": "execute_result"
    }
   ],
   "source": [
    "correlation_with_default = corr_matrix['Default'].sort_values(ascending=False)\n",
    "correlation_with_default = correlation_with_default[correlation_with_default.index != 'Default']\n",
    "correlation_with_default_sorted = correlation_with_default.sort_values(ascending=False)\n",
    "correlation_with_default_sorted"
   ]
  },
  {
   "cell_type": "code",
   "execution_count": 4,
   "id": "f7c518fe-6da8-4f1d-913f-5b74b6afe1ec",
   "metadata": {},
   "outputs": [
    {
     "name": "stdout",
     "output_type": "stream",
     "text": [
      "Accuracy: 0.8858037987076561\n"
     ]
    }
   ],
   "source": [
    "X = df_encoded.drop(['LoanID', 'Default'], axis=1)  \n",
    "y = df_encoded['Default']\n",
    "\n",
    "X_train, X_test, y_train, y_test = train_test_split(X, y, test_size=0.2, random_state=42)\n",
    "\n",
    "scaler = StandardScaler()\n",
    "X_train_scaled = scaler.fit_transform(X_train)\n",
    "X_test_scaled = scaler.transform(X_test)\n",
    "model = GaussianNB()\n",
    "\n",
    "model.fit(X_train_scaled, y_train)\n",
    "\n",
    "y_pred = model.predict(X_test_scaled)\n",
    "\n",
    "accuracy = accuracy_score(y_test, y_pred)\n",
    "print(f\"Accuracy: {accuracy}\")"
   ]
  },
  {
   "cell_type": "code",
   "execution_count": 6,
   "id": "43b3541f-70aa-418a-a199-e8e17bd1751e",
   "metadata": {},
   "outputs": [
    {
     "name": "stdout",
     "output_type": "stream",
     "text": [
      "\n",
      "Confusion Matrix:\n",
      " [[45015   155]\n",
      " [ 5677   223]]\n",
      "\n",
      "Classification Report:\n",
      "               precision    recall  f1-score   support\n",
      "\n",
      "           0       0.89      1.00      0.94     45170\n",
      "           1       0.59      0.04      0.07      5900\n",
      "\n",
      "    accuracy                           0.89     51070\n",
      "   macro avg       0.74      0.52      0.51     51070\n",
      "weighted avg       0.85      0.89      0.84     51070\n",
      "\n"
     ]
    }
   ],
   "source": [
    "from sklearn.metrics import confusion_matrix\n",
    "conf_matrix = confusion_matrix(y_test, y_pred)\n",
    "class_report = classification_report(y_test, y_pred)\n",
    "\n",
    "print(\"\\nConfusion Matrix:\\n\", conf_matrix)\n",
    "print(\"\\nClassification Report:\\n\", class_report)"
   ]
  },
  {
   "cell_type": "code",
   "execution_count": 7,
   "id": "369d7bde-8c9d-4f8b-beed-b6e696702f02",
   "metadata": {},
   "outputs": [
    {
     "name": "stdout",
     "output_type": "stream",
     "text": [
      "<class 'pandas.core.frame.DataFrame'>\n",
      "RangeIndex: 255347 entries, 0 to 255346\n",
      "Data columns (total 30 columns):\n",
      " #   Column                        Non-Null Count   Dtype  \n",
      "---  ------                        --------------   -----  \n",
      " 0   LoanID                        255347 non-null  object \n",
      " 1   Age                           255347 non-null  int64  \n",
      " 2   Income                        255347 non-null  int64  \n",
      " 3   LoanAmount                    255347 non-null  int64  \n",
      " 4   CreditScore                   255347 non-null  int64  \n",
      " 5   MonthsEmployed                255347 non-null  int64  \n",
      " 6   NumCreditLines                255347 non-null  int64  \n",
      " 7   InterestRate                  255347 non-null  float64\n",
      " 8   LoanTerm                      255347 non-null  int64  \n",
      " 9   DTIRatio                      255347 non-null  float64\n",
      " 10  HasMortgage                   255347 non-null  int32  \n",
      " 11  HasDependents                 255347 non-null  int32  \n",
      " 12  HasCoSigner                   255347 non-null  int32  \n",
      " 13  Default                       255347 non-null  int64  \n",
      " 14  Education_Bachelor's          255347 non-null  uint8  \n",
      " 15  Education_High School         255347 non-null  uint8  \n",
      " 16  Education_Master's            255347 non-null  uint8  \n",
      " 17  Education_PhD                 255347 non-null  uint8  \n",
      " 18  EmploymentType_Full-time      255347 non-null  uint8  \n",
      " 19  EmploymentType_Part-time      255347 non-null  uint8  \n",
      " 20  EmploymentType_Self-employed  255347 non-null  uint8  \n",
      " 21  EmploymentType_Unemployed     255347 non-null  uint8  \n",
      " 22  LoanPurpose_Auto              255347 non-null  uint8  \n",
      " 23  LoanPurpose_Business          255347 non-null  uint8  \n",
      " 24  LoanPurpose_Education         255347 non-null  uint8  \n",
      " 25  LoanPurpose_Home              255347 non-null  uint8  \n",
      " 26  LoanPurpose_Other             255347 non-null  uint8  \n",
      " 27  MaritalStatus_Divorced        255347 non-null  uint8  \n",
      " 28  MaritalStatus_Married         255347 non-null  uint8  \n",
      " 29  MaritalStatus_Single          255347 non-null  uint8  \n",
      "dtypes: float64(2), int32(3), int64(8), object(1), uint8(16)\n",
      "memory usage: 28.2+ MB\n"
     ]
    }
   ],
   "source": [
    "df_encoded.info()"
   ]
  },
  {
   "cell_type": "code",
   "execution_count": 8,
   "id": "4f34f00d-5344-431f-a5cd-f87bc4ce56fd",
   "metadata": {},
   "outputs": [
    {
     "name": "stdout",
     "output_type": "stream",
     "text": [
      "Accuracy: 0.8859017035441551\n"
     ]
    }
   ],
   "source": [
    "X = df_encoded.drop(['LoanID', 'Default','LoanTerm','EmploymentType_Self-employed','LoanPurpose_Other','LoanPurpose_Education','LoanPurpose_Auto','EmploymentType_Part-time','MaritalStatus_Single',\"Education_Bachelor's\"], axis=1)  \n",
    "y = df_encoded['Default']\n",
    "X_train, X_test, y_train, y_test = train_test_split(X, y, test_size=0.2, random_state=42)\n",
    "\n",
    "scaler = StandardScaler()\n",
    "X_train_scaled = scaler.fit_transform(X_train)\n",
    "X_test_scaled = scaler.transform(X_test)\n",
    "model = GaussianNB()\n",
    "\n",
    "model.fit(X_train_scaled, y_train)\n",
    "\n",
    "y_pred = model.predict(X_test_scaled)\n",
    "\n",
    "accuracy = accuracy_score(y_test, y_pred)\n",
    "print(f\"Accuracy: {accuracy}\")"
   ]
  },
  {
   "cell_type": "code",
   "execution_count": 9,
   "id": "d00cad5b-3bce-4b93-90e4-77199eb84e1a",
   "metadata": {},
   "outputs": [
    {
     "name": "stdout",
     "output_type": "stream",
     "text": [
      "\n",
      "Confusion Matrix:\n",
      " [[45021   149]\n",
      " [ 5678   222]]\n",
      "\n",
      "Classification Report:\n",
      "               precision    recall  f1-score   support\n",
      "\n",
      "           0       0.89      1.00      0.94     45170\n",
      "           1       0.60      0.04      0.07      5900\n",
      "\n",
      "    accuracy                           0.89     51070\n",
      "   macro avg       0.74      0.52      0.51     51070\n",
      "weighted avg       0.85      0.89      0.84     51070\n",
      "\n"
     ]
    }
   ],
   "source": [
    "conf_matrix = confusion_matrix(y_test, y_pred)\n",
    "class_report = classification_report(y_test, y_pred)\n",
    "\n",
    "print(\"\\nConfusion Matrix:\\n\", conf_matrix)\n",
    "print(\"\\nClassification Report:\\n\", class_report)"
   ]
  },
  {
   "cell_type": "code",
   "execution_count": 10,
   "id": "b0695151-6a24-4ade-b061-2435cc48c3ad",
   "metadata": {},
   "outputs": [
    {
     "name": "stdout",
     "output_type": "stream",
     "text": [
      "<class 'pandas.core.frame.DataFrame'>\n",
      "RangeIndex: 255347 entries, 0 to 255346\n",
      "Data columns (total 20 columns):\n",
      " #   Column                     Non-Null Count   Dtype  \n",
      "---  ------                     --------------   -----  \n",
      " 0   Age                        255347 non-null  int64  \n",
      " 1   Income                     255347 non-null  int64  \n",
      " 2   LoanAmount                 255347 non-null  int64  \n",
      " 3   CreditScore                255347 non-null  int64  \n",
      " 4   MonthsEmployed             255347 non-null  int64  \n",
      " 5   NumCreditLines             255347 non-null  int64  \n",
      " 6   InterestRate               255347 non-null  float64\n",
      " 7   DTIRatio                   255347 non-null  float64\n",
      " 8   HasMortgage                255347 non-null  int32  \n",
      " 9   HasDependents              255347 non-null  int32  \n",
      " 10  HasCoSigner                255347 non-null  int32  \n",
      " 11  Education_High School      255347 non-null  uint8  \n",
      " 12  Education_Master's         255347 non-null  uint8  \n",
      " 13  Education_PhD              255347 non-null  uint8  \n",
      " 14  EmploymentType_Full-time   255347 non-null  uint8  \n",
      " 15  EmploymentType_Unemployed  255347 non-null  uint8  \n",
      " 16  LoanPurpose_Business       255347 non-null  uint8  \n",
      " 17  LoanPurpose_Home           255347 non-null  uint8  \n",
      " 18  MaritalStatus_Divorced     255347 non-null  uint8  \n",
      " 19  MaritalStatus_Married      255347 non-null  uint8  \n",
      "dtypes: float64(2), int32(3), int64(6), uint8(9)\n",
      "memory usage: 20.7 MB\n"
     ]
    }
   ],
   "source": [
    "X.info()"
   ]
  },
  {
   "cell_type": "code",
   "execution_count": 11,
   "id": "cd0468ce-4a5e-4007-9500-74de9334e73d",
   "metadata": {},
   "outputs": [
    {
     "name": "stdout",
     "output_type": "stream",
     "text": [
      "<class 'pandas.core.series.Series'>\n",
      "RangeIndex: 255347 entries, 0 to 255346\n",
      "Series name: Default\n",
      "Non-Null Count   Dtype\n",
      "--------------   -----\n",
      "255347 non-null  int64\n",
      "dtypes: int64(1)\n",
      "memory usage: 1.9 MB\n"
     ]
    }
   ],
   "source": [
    "y.info()"
   ]
  },
  {
   "cell_type": "code",
   "execution_count": 44,
   "id": "dd9fc33d-6495-41ce-9ed1-06d395aef9de",
   "metadata": {},
   "outputs": [
    {
     "name": "stdout",
     "output_type": "stream",
     "text": [
      "Threshold: 0.49000000000000027\n",
      "Accuracy: 0.8857058938711573\n",
      "Confusion Matrix:\n",
      "[[45023   147]\n",
      " [ 5690   210]]\n",
      "Classification Report:\n",
      "              precision    recall  f1-score   support\n",
      "\n",
      "           0       0.89      1.00      0.94     45170\n",
      "           1       0.59      0.04      0.07      5900\n",
      "\n",
      "    accuracy                           0.89     51070\n",
      "   macro avg       0.74      0.52      0.50     51070\n",
      "weighted avg       0.85      0.89      0.84     51070\n",
      "\n"
     ]
    }
   ],
   "source": [
    "from sklearn.linear_model import LogisticRegression\n",
    "logreg_model = LogisticRegression(random_state=42)\n",
    "logreg_model.fit(X_train_scaled, y_train)\n",
    "\n",
    "y_prob = logreg_model.predict_proba(X_test_scaled)[:, 1]\n",
    "i=0.2\n",
    "accuracy_max = 0\n",
    "threshold_max = 0\n",
    "while i<0.5:\n",
    "    threshold = i\n",
    "    y_pred = (y_prob > threshold).astype(int)\n",
    "    accuracy = accuracy_score(y_test, y_pred)\n",
    "    if(accuracy_max<accuracy):\n",
    "        threshold_max = threshold\n",
    "    i +=0.01\n",
    "\n",
    "threshold = threshold_max\n",
    "y_pred = (y_prob > threshold).astype(int)\n",
    "accuracy = accuracy_score(y_test, y_pred)\n",
    "conf_matrix = confusion_matrix(y_test, y_pred)\n",
    "classification_rep = classification_report(y_test, y_pred)\n",
    "\n",
    "print(f'Threshold: {threshold}')\n",
    "print(f'Accuracy: {accuracy}')\n",
    "print(f'Confusion Matrix:\\n{conf_matrix}')\n",
    "print(f'Classification Report:\\n{classification_rep}')"
   ]
  },
  {
   "cell_type": "code",
   "execution_count": 15,
   "id": "98ce36e8-c00b-479e-b8c8-472483fd7905",
   "metadata": {},
   "outputs": [
    {
     "data": {
      "image/png": "[encoded data removed]",
      "text/plain": [
       "<Figure size 800x600 with 1 Axes>"
      ]
     },
     "metadata": {},
     "output_type": "display_data"
    }
   ],
   "source": [
    "from sklearn.metrics import roc_curve, auc\n",
    "\n",
    "y_prob = logreg_model.predict_proba(X_test_scaled)[:, 1]\n",
    "\n",
    "\n",
    "threshold = 0.5\n",
    "y_pred_adjusted = (y_prob > threshold).astype(int)\n",
    "\n",
    "\n",
    "fpr, tpr, thresholds = roc_curve(y_test, y_prob)\n",
    "roc_auc = auc(fpr, tpr)\n",
    "\n",
    "plt.figure(figsize=(8, 6))\n",
    "plt.plot(fpr, tpr, color='darkorange', lw=2, label=f'ROC curve (AUC = {roc_auc:.2f})')\n",
    "plt.plot([0, 1], [0, 1], color='navy', lw=2, linestyle='--')\n",
    "plt.xlim([0.0, 1.0])\n",
    "plt.ylim([0.0, 1.05])\n",
    "plt.xlabel('False Positive Rate')\n",
    "plt.ylabel('True Positive Rate')\n",
    "plt.title('Receiver Operating Characteristic (ROC) Curve')\n",
    "plt.legend(loc='lower right')\n",
    "plt.show()"
   ]
  },
  {
   "cell_type": "code",
   "execution_count": 35,
   "id": "8fe35d5a-5d8c-4ba9-8eb0-3bf0a468003d",
   "metadata": {},
   "outputs": [
    {
     "name": "stdout",
     "output_type": "stream",
     "text": [
      "Epoch 1/25\n",
      "798/798 [==============================] - 1s 1ms/step - loss: 0.6780 - val_loss: 0.5065\n",
      "Epoch 2/25\n",
      "798/798 [==============================] - 1s 964us/step - loss: 0.4897 - val_loss: 0.4808\n",
      "Epoch 3/25\n",
      "798/798 [==============================] - 1s 967us/step - loss: 0.4768 - val_loss: 0.4741\n",
      "Epoch 4/25\n",
      "798/798 [==============================] - 1s 1ms/step - loss: 0.4721 - val_loss: 0.4707\n",
      "Epoch 5/25\n",
      "798/798 [==============================] - 1s 985us/step - loss: 0.4696 - val_loss: 0.4687\n",
      "Epoch 6/25\n",
      "798/798 [==============================] - 1s 980us/step - loss: 0.4680 - val_loss: 0.4675\n",
      "Epoch 7/25\n",
      "798/798 [==============================] - 1s 1ms/step - loss: 0.4670 - val_loss: 0.4667\n",
      "Epoch 8/25\n",
      "798/798 [==============================] - 1s 1ms/step - loss: 0.4664 - val_loss: 0.4662\n",
      "Epoch 9/25\n",
      "798/798 [==============================] - 1s 1ms/step - loss: 0.4660 - val_loss: 0.4659\n",
      "Epoch 10/25\n",
      "798/798 [==============================] - 1s 1ms/step - loss: 0.4658 - val_loss: 0.4658\n",
      "Epoch 11/25\n",
      "798/798 [==============================] - 1s 1ms/step - loss: 0.4657 - val_loss: 0.4657\n",
      "Epoch 12/25\n",
      "798/798 [==============================] - 1s 1ms/step - loss: 0.4656 - val_loss: 0.4656\n",
      "Epoch 13/25\n",
      "798/798 [==============================] - 1s 1ms/step - loss: 0.4656 - val_loss: 0.4656\n",
      "Epoch 14/25\n",
      "798/798 [==============================] - 1s 1ms/step - loss: 0.4655 - val_loss: 0.4656\n",
      "Epoch 15/25\n",
      "798/798 [==============================] - 1s 1ms/step - loss: 0.4655 - val_loss: 0.4655\n",
      "Epoch 16/25\n",
      "798/798 [==============================] - 1s 1ms/step - loss: 0.4655 - val_loss: 0.4655\n",
      "Epoch 17/25\n",
      "798/798 [==============================] - 1s 1ms/step - loss: 0.4655 - val_loss: 0.4655\n",
      "Epoch 18/25\n",
      "798/798 [==============================] - 1s 1ms/step - loss: 0.4655 - val_loss: 0.4655\n",
      "Epoch 19/25\n",
      "798/798 [==============================] - 1s 1ms/step - loss: 0.4655 - val_loss: 0.4655\n",
      "Epoch 20/25\n",
      "798/798 [==============================] - 1s 1ms/step - loss: 0.4655 - val_loss: 0.4655\n",
      "Epoch 21/25\n",
      "798/798 [==============================] - 1s 1ms/step - loss: 0.4655 - val_loss: 0.4655\n",
      "Epoch 22/25\n",
      "798/798 [==============================] - 1s 1ms/step - loss: 0.4655 - val_loss: 0.4655\n",
      "Epoch 23/25\n",
      "798/798 [==============================] - 1s 1ms/step - loss: 0.4655 - val_loss: 0.4655\n",
      "Epoch 24/25\n",
      "798/798 [==============================] - 1s 1ms/step - loss: 0.4655 - val_loss: 0.4655\n",
      "Epoch 25/25\n",
      "798/798 [==============================] - 1s 1ms/step - loss: 0.4655 - val_loss: 0.4655\n",
      "6384/6384 [==============================] - 4s 580us/step\n",
      "1596/1596 [==============================] - 1s 544us/step\n"
     ]
    }
   ],
   "source": [
    "from keras.layers import Input, Dense\n",
    "from keras.models import Model\n",
    "from sklearn.neighbors import KNeighborsClassifier\n",
    "\n",
    "scaler = StandardScaler()\n",
    "X_train_scaled = scaler.fit_transform(X_train)\n",
    "X_test_scaled = scaler.transform(X_test)\n",
    "\n",
    "\n",
    "input_dim = X_train_scaled.shape[1]\n",
    "encoding_dim = 32 \n",
    "input_layer = Input(shape=(input_dim,))\n",
    "encoded = Dense(encoding_dim, activation='relu')(input_layer)\n",
    "decoded = Dense(input_dim, activation='sigmoid')(encoded)\n",
    "autoencoder = Model(inputs=input_layer, outputs=decoded)\n",
    "\n",
    "\n",
    "autoencoder.compile(optimizer='adam', loss='mean_squared_error')\n",
    "autoencoder.fit(X_train_scaled, X_train_scaled, epochs=25, batch_size=256, shuffle=True, validation_data=(X_test_scaled, X_test_scaled))\n",
    "\n",
    "\n",
    "encoder_output_train = autoencoder.predict(X_train_scaled)\n",
    "encoder_output_test = autoencoder.predict(X_test_scaled)"
   ]
  },
  {
   "cell_type": "code",
   "execution_count": 39,
   "id": "6f52bddb",
   "metadata": {},
   "outputs": [],
   "source": [
    "knn_model = KNeighborsClassifier(n_neighbors=1)\n",
    "knn_model.fit(encoder_output_train, y_train)\n",
    "\n",
    "\n",
    "y_pred = knn_model.predict(encoder_output_test)"
   ]
  },
  {
   "cell_type": "code",
   "execution_count": 40,
   "id": "b32099a0-a4a3-4f2f-b7d7-010c83c84368",
   "metadata": {},
   "outputs": [
    {
     "name": "stdout",
     "output_type": "stream",
     "text": [
      "Confusion Matrix:\n",
      "[[40190  4980]\n",
      " [ 4886  1014]]\n",
      "Accuracy: 0.8068141766203251\n"
     ]
    }
   ],
   "source": [
    "conf_matrix = confusion_matrix(y_test, y_pred)\n",
    "accuracy = accuracy_score(y_test, y_pred)\n",
    "\n",
    "print(f'Confusion Matrix:\\n{conf_matrix}')\n",
    "print(f'Accuracy: {accuracy}')"
   ]
  },
  {
   "cell_type": "code",
   "execution_count": 41,
   "id": "44dfe5dd",
   "metadata": {},
   "outputs": [
    {
     "name": "stdout",
     "output_type": "stream",
     "text": [
      "Classification Report:\n",
      "              precision    recall  f1-score   support\n",
      "\n",
      "           0       0.89      0.89      0.89     45170\n",
      "           1       0.17      0.17      0.17      5900\n",
      "\n",
      "    accuracy                           0.81     51070\n",
      "   macro avg       0.53      0.53      0.53     51070\n",
      "weighted avg       0.81      0.81      0.81     51070\n",
      "\n"
     ]
    }
   ],
   "source": [
    "class_report = classification_report(y_test, y_pred)\n",
    "print(f'Classification Report:\\n{class_report}')"
   ]
  },
  {
   "cell_type": "code",
   "execution_count": null,
   "id": "59d129b2",
   "metadata": {},
   "outputs": [],
   "source": []
  }
 ],
 "metadata": {
  "kernelspec": {
   "display_name": "Python 3 (ipykernel)",
   "language": "python",
   "name": "python3"
  },
  "language_info": {
   "codemirror_mode": {
    "name": "ipython",
    "version": 3
   },
   "file_extension": ".py",
   "mimetype": "text/x-python",
   "name": "python",
   "nbconvert_exporter": "python",
   "pygments_lexer": "ipython3",
   "version": "3.10.9"
  }
 },
 "nbformat": 4,
 "nbformat_minor": 5
}
